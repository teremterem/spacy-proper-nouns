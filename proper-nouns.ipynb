{
 "cells": [
  {
   "cell_type": "code",
   "execution_count": 1,
   "id": "human-exploration",
   "metadata": {},
   "outputs": [
    {
     "name": "stdout",
     "output_type": "stream",
     "text": [
      "'Hello ,, I   am Python\\n...\\nHow are you?'\n"
     ]
    }
   ],
   "source": [
    "input_text = 'Hello ,, I   am Python\\n...\\nHow are you?'\n",
    "print(repr(input_text))"
   ]
  },
  {
   "cell_type": "code",
   "execution_count": 2,
   "id": "pacific-basketball",
   "metadata": {},
   "outputs": [
    {
     "name": "stdout",
     "output_type": "stream",
     "text": [
      "'Hello, I   am Python. How are you? '\n",
      "'Hello, I am Python. How are you?'\n"
     ]
    }
   ],
   "source": [
    "import re\n",
    "\n",
    "normalized_punct = re.sub(r'\\s*([^\\s\\w])\\W*', r'\\1 ', input_text)\n",
    "print(repr(normalized_punct))\n",
    "\n",
    "normalized_spaces = ' '.join(normalized_punct.split())\n",
    "print(repr(normalized_spaces))"
   ]
  },
  {
   "cell_type": "code",
   "execution_count": 3,
   "id": "normal-papua",
   "metadata": {},
   "outputs": [
    {
     "name": "stdout",
     "output_type": "stream",
     "text": [
      "1. 'Hello, I am Python.' -> ['Python']\n",
      "2. 'How are you?' -> []\n"
     ]
    }
   ],
   "source": [
    "import spacy\n",
    "nlp = spacy.load(\"en_core_web_sm\")\n",
    "doc = nlp(normalized_spaces)\n",
    "\n",
    "for i, sent in enumerate(doc.sents):\n",
    "    proper_nouns = [w.text for w in sent if w.pos_ == 'PROPN']\n",
    "    print(f\"{i+1}.\", repr(sent.text), '->', repr(proper_nouns))"
   ]
  },
  {
   "cell_type": "code",
   "execution_count": null,
   "id": "offshore-sussex",
   "metadata": {},
   "outputs": [],
   "source": []
  }
 ],
 "metadata": {
  "kernelspec": {
   "display_name": "Python 3",
   "language": "python",
   "name": "python3"
  },
  "language_info": {
   "codemirror_mode": {
    "name": "ipython",
    "version": 3
   },
   "file_extension": ".py",
   "mimetype": "text/x-python",
   "name": "python",
   "nbconvert_exporter": "python",
   "pygments_lexer": "ipython3",
   "version": "3.8.6"
  }
 },
 "nbformat": 4,
 "nbformat_minor": 5
}
