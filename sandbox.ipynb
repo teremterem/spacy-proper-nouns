{
 "cells": [
  {
   "cell_type": "code",
   "execution_count": 1,
   "id": "corresponding-bankruptcy",
   "metadata": {},
   "outputs": [],
   "source": [
    "input_text = 'Hello ,, I am Python\\n...\\nHow are you?'"
   ]
  },
  {
   "cell_type": "code",
   "execution_count": 2,
   "id": "presidential-shuttle",
   "metadata": {},
   "outputs": [],
   "source": [
    "import spacy\n",
    "nlp = spacy.load(\"en_core_web_sm\")"
   ]
  },
  {
   "cell_type": "code",
   "execution_count": 3,
   "id": "pressed-bloom",
   "metadata": {},
   "outputs": [],
   "source": [
    "doc = nlp(input_text)"
   ]
  },
  {
   "cell_type": "code",
   "execution_count": 4,
   "id": "behavioral-luxury",
   "metadata": {},
   "outputs": [
    {
     "data": {
      "text/plain": [
       "['Hello',\n",
       " ',',\n",
       " ',',\n",
       " 'I',\n",
       " 'am',\n",
       " 'Python',\n",
       " '\\n',\n",
       " '...',\n",
       " '\\n',\n",
       " 'How',\n",
       " 'are',\n",
       " 'you',\n",
       " '?']"
      ]
     },
     "execution_count": 4,
     "metadata": {},
     "output_type": "execute_result"
    }
   ],
   "source": [
    "[w.text for w in doc]"
   ]
  },
  {
   "cell_type": "code",
   "execution_count": 7,
   "id": "molecular-fence",
   "metadata": {},
   "outputs": [
    {
     "data": {
      "text/plain": [
       "[spacy.tokens.span.Span, spacy.tokens.span.Span]"
      ]
     },
     "execution_count": 7,
     "metadata": {},
     "output_type": "execute_result"
    }
   ],
   "source": [
    "[type(s) for s in doc.sents]"
   ]
  },
  {
   "cell_type": "code",
   "execution_count": null,
   "id": "exclusive-lexington",
   "metadata": {},
   "outputs": [],
   "source": []
  }
 ],
 "metadata": {
  "kernelspec": {
   "display_name": "Python 3",
   "language": "python",
   "name": "python3"
  },
  "language_info": {
   "codemirror_mode": {
    "name": "ipython",
    "version": 3
   },
   "file_extension": ".py",
   "mimetype": "text/x-python",
   "name": "python",
   "nbconvert_exporter": "python",
   "pygments_lexer": "ipython3",
   "version": "3.8.6"
  }
 },
 "nbformat": 4,
 "nbformat_minor": 5
}
