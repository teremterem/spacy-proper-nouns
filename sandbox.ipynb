{
 "cells": [
  {
   "cell_type": "code",
   "execution_count": 1,
   "id": "resistant-arcade",
   "metadata": {},
   "outputs": [],
   "source": [
    "# input_text = 'Hello ,, I am Python\\n...\\nHow are you?'\n",
    "input_text = 'Hello ,, I    am \\n\\n \\n Python\\n...\\nHow are you?'"
   ]
  },
  {
   "cell_type": "code",
   "execution_count": 2,
   "id": "affecting-roommate",
   "metadata": {},
   "outputs": [],
   "source": [
    "import spacy\n",
    "nlp = spacy.load(\"en_core_web_sm\")"
   ]
  },
  {
   "cell_type": "code",
   "execution_count": 3,
   "id": "introductory-summary",
   "metadata": {},
   "outputs": [],
   "source": [
    "doc = nlp(input_text)"
   ]
  },
  {
   "cell_type": "code",
   "execution_count": 4,
   "id": "embedded-effectiveness",
   "metadata": {},
   "outputs": [
    {
     "data": {
      "text/plain": [
       "['Hello',\n",
       " ',',\n",
       " ',',\n",
       " 'I',\n",
       " '   ',\n",
       " 'am',\n",
       " '\\n\\n \\n ',\n",
       " 'Python',\n",
       " '\\n',\n",
       " '...',\n",
       " '\\n',\n",
       " 'How',\n",
       " 'are',\n",
       " 'you',\n",
       " '?']"
      ]
     },
     "execution_count": 4,
     "metadata": {},
     "output_type": "execute_result"
    }
   ],
   "source": [
    "[w.text for w in doc]"
   ]
  },
  {
   "cell_type": "code",
   "execution_count": 5,
   "id": "applied-tuesday",
   "metadata": {},
   "outputs": [
    {
     "data": {
      "text/plain": [
       "[spacy.tokens.span.Span, spacy.tokens.span.Span]"
      ]
     },
     "execution_count": 5,
     "metadata": {},
     "output_type": "execute_result"
    }
   ],
   "source": [
    "[type(s) for s in doc.sents]"
   ]
  },
  {
   "cell_type": "code",
   "execution_count": 6,
   "id": "broke-cheese",
   "metadata": {},
   "outputs": [
    {
     "name": "stdout",
     "output_type": "stream",
     "text": [
      "['Hello', ',', ',', 'I', '   ', 'am', '\\n\\n \\n ', 'Python', '\\n', '...', '\\n']\n",
      "['How', 'are', 'you', '?']\n"
     ]
    }
   ],
   "source": [
    "from pprint import pprint\n",
    "for s in doc.sents:\n",
    "    pprint([w.text for w in s])"
   ]
  },
  {
   "cell_type": "code",
   "execution_count": 8,
   "id": "negative-somalia",
   "metadata": {},
   "outputs": [
    {
     "name": "stdout",
     "output_type": "stream",
     "text": [
      "'Hello, I    am \\n\\n \\n Python. How are you? '\n",
      "'Hello, I am Python. How are you?'\n"
     ]
    }
   ],
   "source": [
    "import re\n",
    "normalized_punct = re.sub(r'\\s*([^\\s\\w])\\W*', r'\\1 ', input_text)\n",
    "print(repr(normalized_punct))\n",
    "normalized_spaces = ' '.join(normalized_punct.split())\n",
    "print(repr(normalized_spaces))"
   ]
  },
  {
   "cell_type": "code",
   "execution_count": 9,
   "id": "wrapped-armstrong",
   "metadata": {},
   "outputs": [],
   "source": [
    "doc = nlp(normalized_spaces)"
   ]
  },
  {
   "cell_type": "code",
   "execution_count": 13,
   "id": "indoor-verse",
   "metadata": {},
   "outputs": [
    {
     "name": "stdout",
     "output_type": "stream",
     "text": [
      "1. 'Hello, I am Python.'\n",
      "2. 'How are you?'\n"
     ]
    }
   ],
   "source": [
    "for i, sent in enumerate(doc.sents):\n",
    "    print(f\"{i+1}.\", repr(sent.text))"
   ]
  },
  {
   "cell_type": "code",
   "execution_count": null,
   "id": "harmful-assault",
   "metadata": {},
   "outputs": [],
   "source": []
  }
 ],
 "metadata": {
  "kernelspec": {
   "display_name": "Python 3",
   "language": "python",
   "name": "python3"
  },
  "language_info": {
   "codemirror_mode": {
    "name": "ipython",
    "version": 3
   },
   "file_extension": ".py",
   "mimetype": "text/x-python",
   "name": "python",
   "nbconvert_exporter": "python",
   "pygments_lexer": "ipython3",
   "version": "3.8.6"
  }
 },
 "nbformat": 4,
 "nbformat_minor": 5
}
